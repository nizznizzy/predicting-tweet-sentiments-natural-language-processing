{
  "nbformat": 4,
  "nbformat_minor": 0,
  "metadata": {
    "colab": {
      "name": "tweet-analysis-hakererath-competition.ipynb",
      "provenance": [],
      "collapsed_sections": []
    },
    "kernelspec": {
      "name": "python3",
      "display_name": "Python 3"
    },
    "accelerator": "GPU"
  },
  "cells": [
    {
      "cell_type": "code",
      "metadata": {
        "id": "nCODFIJl_SOh",
        "colab_type": "code",
        "outputId": "7d7ebcfb-9d4e-49a5-9a66-b133bddd2028",
        "colab": {
          "base_uri": "https://localhost:8080/",
          "height": 51
        }
      },
      "source": [
        "#importing Libraries\n",
        "import pandas  as pd\n",
        "import numpy as np\n",
        "import re\n",
        "import nltk\n",
        "nltk.download('stopwords')\n",
        "from nltk.corpus import stopwords\n",
        "from nltk.stem.porter import PorterStemmer\n"
      ],
      "execution_count": 1,
      "outputs": [
        {
          "output_type": "stream",
          "text": [
            "[nltk_data] Downloading package stopwords to /root/nltk_data...\n",
            "[nltk_data]   Package stopwords is already up-to-date!\n"
          ],
          "name": "stdout"
        }
      ]
    },
    {
      "cell_type": "code",
      "metadata": {
        "id": "EmN-a5d2AHw-",
        "colab_type": "code",
        "colab": {}
      },
      "source": [
        "#reading train dataset\n",
        "train = pd.read_csv('train.csv')"
      ],
      "execution_count": 0,
      "outputs": []
    },
    {
      "cell_type": "code",
      "metadata": {
        "id": "mdHnz7LmHpzX",
        "colab_type": "code",
        "outputId": "be3deb2a-93bf-438c-f06a-f916f001ca43",
        "colab": {
          "base_uri": "https://localhost:8080/",
          "height": 204
        }
      },
      "source": [
        "train.head()"
      ],
      "execution_count": 3,
      "outputs": [
        {
          "output_type": "execute_result",
          "data": {
            "text/html": [
              "<div>\n",
              "<style scoped>\n",
              "    .dataframe tbody tr th:only-of-type {\n",
              "        vertical-align: middle;\n",
              "    }\n",
              "\n",
              "    .dataframe tbody tr th {\n",
              "        vertical-align: top;\n",
              "    }\n",
              "\n",
              "    .dataframe thead th {\n",
              "        text-align: right;\n",
              "    }\n",
              "</style>\n",
              "<table border=\"1\" class=\"dataframe\">\n",
              "  <thead>\n",
              "    <tr style=\"text-align: right;\">\n",
              "      <th></th>\n",
              "      <th>id</th>\n",
              "      <th>original_text</th>\n",
              "      <th>lang</th>\n",
              "      <th>retweet_count</th>\n",
              "      <th>original_author</th>\n",
              "      <th>sentiment_class</th>\n",
              "    </tr>\n",
              "  </thead>\n",
              "  <tbody>\n",
              "    <tr>\n",
              "      <th>0</th>\n",
              "      <td>1.245025e+18</td>\n",
              "      <td>Happy #MothersDay to all you amazing mothers o...</td>\n",
              "      <td>en</td>\n",
              "      <td>0</td>\n",
              "      <td>BeenXXPired</td>\n",
              "      <td>0</td>\n",
              "    </tr>\n",
              "    <tr>\n",
              "      <th>1</th>\n",
              "      <td>1.245759e+18</td>\n",
              "      <td>Happy Mothers Day Mum - I'm sorry I can't be t...</td>\n",
              "      <td>en</td>\n",
              "      <td>1</td>\n",
              "      <td>FestiveFeeling</td>\n",
              "      <td>0</td>\n",
              "    </tr>\n",
              "    <tr>\n",
              "      <th>2</th>\n",
              "      <td>1.246087e+18</td>\n",
              "      <td>Happy mothers day To all This doing a mothers ...</td>\n",
              "      <td>en</td>\n",
              "      <td>0</td>\n",
              "      <td>KrisAllenSak</td>\n",
              "      <td>-1</td>\n",
              "    </tr>\n",
              "    <tr>\n",
              "      <th>3</th>\n",
              "      <td>1.244803e+18</td>\n",
              "      <td>Happy mothers day to this beautiful woman...ro...</td>\n",
              "      <td>en</td>\n",
              "      <td>0</td>\n",
              "      <td>Queenuchee</td>\n",
              "      <td>0</td>\n",
              "    </tr>\n",
              "    <tr>\n",
              "      <th>4</th>\n",
              "      <td>1.244876e+18</td>\n",
              "      <td>Remembering the 3 most amazing ladies who made...</td>\n",
              "      <td>en</td>\n",
              "      <td>0</td>\n",
              "      <td>brittan17446794</td>\n",
              "      <td>-1</td>\n",
              "    </tr>\n",
              "  </tbody>\n",
              "</table>\n",
              "</div>"
            ],
            "text/plain": [
              "             id  ... sentiment_class\n",
              "0  1.245025e+18  ...               0\n",
              "1  1.245759e+18  ...               0\n",
              "2  1.246087e+18  ...              -1\n",
              "3  1.244803e+18  ...               0\n",
              "4  1.244876e+18  ...              -1\n",
              "\n",
              "[5 rows x 6 columns]"
            ]
          },
          "metadata": {
            "tags": []
          },
          "execution_count": 3
        }
      ]
    },
    {
      "cell_type": "code",
      "metadata": {
        "id": "07hHLAjqAl0H",
        "colab_type": "code",
        "outputId": "63241469-1acb-469c-d8ea-1e1b1b8505e4",
        "colab": {
          "base_uri": "https://localhost:8080/",
          "height": 68
        }
      },
      "source": [
        "train.columns"
      ],
      "execution_count": 4,
      "outputs": [
        {
          "output_type": "execute_result",
          "data": {
            "text/plain": [
              "Index(['id', 'original_text', 'lang', 'retweet_count', 'original_author',\n",
              "       'sentiment_class'],\n",
              "      dtype='object')"
            ]
          },
          "metadata": {
            "tags": []
          },
          "execution_count": 4
        }
      ]
    },
    {
      "cell_type": "code",
      "metadata": {
        "id": "A0k1PQMbIDi9",
        "colab_type": "code",
        "outputId": "b4ad7b1b-4779-416c-b908-76493ac11031",
        "colab": {
          "base_uri": "https://localhost:8080/",
          "height": 34
        }
      },
      "source": [
        "train.shape"
      ],
      "execution_count": 5,
      "outputs": [
        {
          "output_type": "execute_result",
          "data": {
            "text/plain": [
              "(3235, 6)"
            ]
          },
          "metadata": {
            "tags": []
          },
          "execution_count": 5
        }
      ]
    },
    {
      "cell_type": "code",
      "metadata": {
        "id": "_7WoBh_KER6Y",
        "colab_type": "code",
        "colab": {}
      },
      "source": [
        "#cleaning data *Removing unwanted text, numbers, special chars etc., * change to lower case * spliting the words *appling stemming * removing stopwords \n",
        "train_clean = []\n",
        "for i in range(0, 3235):\n",
        "  review = re.sub('[^a-zA-Z]',' ',train['original_text'][i])\n",
        "  review = review.lower()\n",
        "  review = review.split()\n",
        "  ps = PorterStemmer()\n",
        "  review = [ps.stem(word) for word in review if not word in set(stopwords.words('english'))]\n",
        "  review =' '.join(review)\n",
        "  train_clean.append(review)"
      ],
      "execution_count": 0,
      "outputs": []
    },
    {
      "cell_type": "code",
      "metadata": {
        "id": "Ya0x_MwQIVgH",
        "colab_type": "code",
        "outputId": "c041feb0-56eb-4537-e6a7-5710892a5266",
        "colab": {
          "base_uri": "https://localhost:8080/",
          "height": 207
        }
      },
      "source": [
        "train_clean[0:10]"
      ],
      "execution_count": 7,
      "outputs": [
        {
          "output_type": "execute_result",
          "data": {
            "text/plain": [
              "['happi mothersday amaz mother know hard abl see mother today us protect vulner member societi beatcoronaviru pic twitter com va nfjfq b',\n",
              " 'happi mother day mum sorri bring mother day flower cwtch honestli point walk hot coal abl bell soon love lot xxx p need photo http photo app goo gl vxblrsczd te',\n",
              " 'happi mother day mother day work today quiet time reflect dog walk finish jigsaw garden learn guitar chord drunk strawberri gin tonic watch lee even dvd favourit place visit isol pic twitter com gz xvvf f',\n",
              " 'happi mother day beauti woman royalti sooth mummi jeremi emerald prayforroksi ultimateloveng pic twitter com oeeti pvv',\n",
              " 'rememb amaz ladi made late grandmoth iri mum carol great grandmoth ethel miss never forgotten happi mother day great mum love sent xxxx pic twitter com xzzzdeybj',\n",
              " 'happi mother day bratz world familiez yasmin mum portia bratz bratzworldfamiliez bratz bratzkidz bratzyasmin bratzportia theonlygirlswithapassionforfashion bratzdol bratzcollector happymothersday mothersday mothersday azdoesmakeup pic twitter com zhpu',\n",
              " 'happi mother day wonder mum mothersday cupcak supermum traceyscakecraft couturesugarpast saracinouk hinckley tracey cakecraft http www instagram com p b cuzhjg au igshid lf elmlv q g',\n",
              " 'show mother two sexi rosi happi mother day beauti rosi officiallrosi love happymothersdayrosi happymothersday whyiloveroksi roksi pic twitter com omzghciv',\n",
              " 'mother grandmoth aunt sister women live care love us uncondit happi mother day mothersday pic twitter com ejatt ah z',\n",
              " 'mother around world ga health initi wish happi mother day gthi mothersday motheringsunday mothersday lpg motherhood motherslov gastohealth argu lpgn nigeria cookingga cook mothersdayshoutout mother mama pic twitter com csq joic z']"
            ]
          },
          "metadata": {
            "tags": []
          },
          "execution_count": 7
        }
      ]
    },
    {
      "cell_type": "code",
      "metadata": {
        "id": "Z2hF2Q5HUagH",
        "colab_type": "code",
        "outputId": "b7aa76e1-3336-4c58-f75b-4c3d631b373c",
        "colab": {
          "base_uri": "https://localhost:8080/",
          "height": 34
        }
      },
      "source": [
        "#bagging words\n",
        "from sklearn.feature_extraction.text import CountVectorizer\n",
        "cv = CountVectorizer(max_features=7319)\n",
        "X= cv.fit_transform(train_clean).toarray()\n",
        "y= train.iloc[: , 5].values\n",
        "y"
      ],
      "execution_count": 8,
      "outputs": [
        {
          "output_type": "execute_result",
          "data": {
            "text/plain": [
              "array([ 0,  0, -1, ...,  0,  0, -1])"
            ]
          },
          "metadata": {
            "tags": []
          },
          "execution_count": 8
        }
      ]
    },
    {
      "cell_type": "code",
      "metadata": {
        "id": "XvEHgYXnboo-",
        "colab_type": "code",
        "outputId": "c56b15d1-612e-4e17-a012-0db883f5afce",
        "colab": {
          "base_uri": "https://localhost:8080/",
          "height": 34
        }
      },
      "source": [
        "X.shape"
      ],
      "execution_count": 9,
      "outputs": [
        {
          "output_type": "execute_result",
          "data": {
            "text/plain": [
              "(3235, 7319)"
            ]
          },
          "metadata": {
            "tags": []
          },
          "execution_count": 9
        }
      ]
    },
    {
      "cell_type": "code",
      "metadata": {
        "id": "ddB8jXfTIoat",
        "colab_type": "code",
        "colab": {}
      },
      "source": [
        "#reading test dataset\n",
        "test = pd.read_csv('test.csv')"
      ],
      "execution_count": 0,
      "outputs": []
    },
    {
      "cell_type": "code",
      "metadata": {
        "id": "iU3MQUawJCXu",
        "colab_type": "code",
        "outputId": "7df26cbf-1568-4c54-d5c0-68705712a5f6",
        "colab": {
          "base_uri": "https://localhost:8080/",
          "height": 204
        }
      },
      "source": [
        "test.head()"
      ],
      "execution_count": 11,
      "outputs": [
        {
          "output_type": "execute_result",
          "data": {
            "text/html": [
              "<div>\n",
              "<style scoped>\n",
              "    .dataframe tbody tr th:only-of-type {\n",
              "        vertical-align: middle;\n",
              "    }\n",
              "\n",
              "    .dataframe tbody tr th {\n",
              "        vertical-align: top;\n",
              "    }\n",
              "\n",
              "    .dataframe thead th {\n",
              "        text-align: right;\n",
              "    }\n",
              "</style>\n",
              "<table border=\"1\" class=\"dataframe\">\n",
              "  <thead>\n",
              "    <tr style=\"text-align: right;\">\n",
              "      <th></th>\n",
              "      <th>id</th>\n",
              "      <th>original_text</th>\n",
              "      <th>lang</th>\n",
              "      <th>retweet_count</th>\n",
              "      <th>original_author</th>\n",
              "    </tr>\n",
              "  </thead>\n",
              "  <tbody>\n",
              "    <tr>\n",
              "      <th>0</th>\n",
              "      <td>1.246628e+18</td>\n",
              "      <td>3. Yeah, I once cooked potatoes when I was 3 y...</td>\n",
              "      <td>en</td>\n",
              "      <td>0</td>\n",
              "      <td>LToddWood</td>\n",
              "    </tr>\n",
              "    <tr>\n",
              "      <th>1</th>\n",
              "      <td>1.245898e+18</td>\n",
              "      <td>Happy Mother's Day to all the mums, step-mums,...</td>\n",
              "      <td>en</td>\n",
              "      <td>0</td>\n",
              "      <td>iiarushii</td>\n",
              "    </tr>\n",
              "    <tr>\n",
              "      <th>2</th>\n",
              "      <td>1.244717e+18</td>\n",
              "      <td>I love the people from the UK, however, when I...</td>\n",
              "      <td>en</td>\n",
              "      <td>0</td>\n",
              "      <td>andreaanderegg</td>\n",
              "    </tr>\n",
              "    <tr>\n",
              "      <th>3</th>\n",
              "      <td>1.245730e+18</td>\n",
              "      <td>Happy 81st Birthday Happy Mother’s Day to my m...</td>\n",
              "      <td>en</td>\n",
              "      <td>1</td>\n",
              "      <td>TheBookTweeters</td>\n",
              "    </tr>\n",
              "    <tr>\n",
              "      <th>4</th>\n",
              "      <td>1.244636e+18</td>\n",
              "      <td>Happy Mothers day to all those wonderful mothe...</td>\n",
              "      <td>en</td>\n",
              "      <td>0</td>\n",
              "      <td>andreaanderegg</td>\n",
              "    </tr>\n",
              "  </tbody>\n",
              "</table>\n",
              "</div>"
            ],
            "text/plain": [
              "             id  ...  original_author\n",
              "0  1.246628e+18  ...        LToddWood\n",
              "1  1.245898e+18  ...        iiarushii\n",
              "2  1.244717e+18  ...   andreaanderegg\n",
              "3  1.245730e+18  ...  TheBookTweeters\n",
              "4  1.244636e+18  ...   andreaanderegg\n",
              "\n",
              "[5 rows x 5 columns]"
            ]
          },
          "metadata": {
            "tags": []
          },
          "execution_count": 11
        }
      ]
    },
    {
      "cell_type": "code",
      "metadata": {
        "id": "J-VcNePaJFkZ",
        "colab_type": "code",
        "outputId": "d15c48dc-8d45-4e28-a677-c1e0a687ec21",
        "colab": {
          "base_uri": "https://localhost:8080/",
          "height": 34
        }
      },
      "source": [
        "test.shape"
      ],
      "execution_count": 12,
      "outputs": [
        {
          "output_type": "execute_result",
          "data": {
            "text/plain": [
              "(1387, 5)"
            ]
          },
          "metadata": {
            "tags": []
          },
          "execution_count": 12
        }
      ]
    },
    {
      "cell_type": "code",
      "metadata": {
        "id": "aws2ragSJJio",
        "colab_type": "code",
        "colab": {}
      },
      "source": [
        "test_clean = []\n",
        "for i in range(0, 1387):\n",
        "  review = re.sub('[^a-zA-Z]',' ',test['original_text'][i])\n",
        "  review = review.lower()\n",
        "  review = review.split()\n",
        "  ps = PorterStemmer()\n",
        "  review = [ps.stem(word) for word in review if not word in set(stopwords.words('english'))]\n",
        "  review =' '.join(review)\n",
        "  test_clean.append(review)"
      ],
      "execution_count": 0,
      "outputs": []
    },
    {
      "cell_type": "code",
      "metadata": {
        "id": "c6hzzD72JgJQ",
        "colab_type": "code",
        "outputId": "9f1641e5-b80c-46c2-a435-15a450f8db96",
        "colab": {
          "base_uri": "https://localhost:8080/",
          "height": 34
        }
      },
      "source": [
        "print(len(test_clean))"
      ],
      "execution_count": 14,
      "outputs": [
        {
          "output_type": "stream",
          "text": [
            "1387\n"
          ],
          "name": "stdout"
        }
      ]
    },
    {
      "cell_type": "code",
      "metadata": {
        "id": "Ri8XMjOVQ4RY",
        "colab_type": "code",
        "outputId": "7f542817-039c-4fcf-f2e8-1b262fd4a4a8",
        "colab": {
          "base_uri": "https://localhost:8080/",
          "height": 136
        }
      },
      "source": [
        "test_cv = CountVectorizer()\n",
        "test_count= cv.fit_transform(test_clean).toarray()\n",
        "test_count"
      ],
      "execution_count": 15,
      "outputs": [
        {
          "output_type": "execute_result",
          "data": {
            "text/plain": [
              "array([[0, 0, 0, ..., 0, 0, 0],\n",
              "       [0, 0, 0, ..., 0, 0, 0],\n",
              "       [0, 0, 0, ..., 0, 0, 0],\n",
              "       ...,\n",
              "       [0, 0, 0, ..., 0, 0, 0],\n",
              "       [0, 0, 0, ..., 0, 0, 0],\n",
              "       [0, 0, 0, ..., 0, 0, 0]])"
            ]
          },
          "metadata": {
            "tags": []
          },
          "execution_count": 15
        }
      ]
    },
    {
      "cell_type": "code",
      "metadata": {
        "id": "pnN6OjhtTO5F",
        "colab_type": "code",
        "outputId": "122b69a1-8c04-4cbd-9aee-dd47217cc5ad",
        "colab": {
          "base_uri": "https://localhost:8080/",
          "height": 34
        }
      },
      "source": [
        "test_count.shape"
      ],
      "execution_count": 16,
      "outputs": [
        {
          "output_type": "execute_result",
          "data": {
            "text/plain": [
              "(1387, 7319)"
            ]
          },
          "metadata": {
            "tags": []
          },
          "execution_count": 16
        }
      ]
    },
    {
      "cell_type": "code",
      "metadata": {
        "id": "93RJMl_1ekxN",
        "colab_type": "code",
        "outputId": "244dc571-c8fe-43eb-fac3-446e78809935",
        "colab": {
          "base_uri": "https://localhost:8080/",
          "height": 68
        }
      },
      "source": [
        "#spliting the dataset\n",
        "from sklearn.model_selection import train_test_split\n",
        "X_train,X_test,y_train,y_test = train_test_split(X, y, test_size = 0.25, random_state = 0)\n",
        "train.columns"
      ],
      "execution_count": 17,
      "outputs": [
        {
          "output_type": "execute_result",
          "data": {
            "text/plain": [
              "Index(['id', 'original_text', 'lang', 'retweet_count', 'original_author',\n",
              "       'sentiment_class'],\n",
              "      dtype='object')"
            ]
          },
          "metadata": {
            "tags": []
          },
          "execution_count": 17
        }
      ]
    },
    {
      "cell_type": "code",
      "metadata": {
        "id": "OfdS5GAGmaI3",
        "colab_type": "code",
        "outputId": "17c0daf8-9fe3-45ef-f582-991518b50a3f",
        "colab": {
          "base_uri": "https://localhost:8080/",
          "height": 153
        }
      },
      "source": [
        "#model building RANDOM FOREST\n",
        "from sklearn.ensemble import RandomForestClassifier\n",
        "classifier = RandomForestClassifier(n_estimators=100, criterion='entropy', random_state=0)\n",
        "classifier.fit(X_train,y_train)"
      ],
      "execution_count": 18,
      "outputs": [
        {
          "output_type": "execute_result",
          "data": {
            "text/plain": [
              "RandomForestClassifier(bootstrap=True, ccp_alpha=0.0, class_weight=None,\n",
              "                       criterion='entropy', max_depth=None, max_features='auto',\n",
              "                       max_leaf_nodes=None, max_samples=None,\n",
              "                       min_impurity_decrease=0.0, min_impurity_split=None,\n",
              "                       min_samples_leaf=1, min_samples_split=2,\n",
              "                       min_weight_fraction_leaf=0.0, n_estimators=100,\n",
              "                       n_jobs=None, oob_score=False, random_state=0, verbose=0,\n",
              "                       warm_start=False)"
            ]
          },
          "metadata": {
            "tags": []
          },
          "execution_count": 18
        }
      ]
    },
    {
      "cell_type": "code",
      "metadata": {
        "id": "qumQT_Xcmc7M",
        "colab_type": "code",
        "colab": {}
      },
      "source": [
        " #predicting tweets\n",
        " ran_predict = classifier.predict(X_test)"
      ],
      "execution_count": 0,
      "outputs": []
    },
    {
      "cell_type": "code",
      "metadata": {
        "id": "zg31bVUDntn9",
        "colab_type": "code",
        "outputId": "678204b5-97fa-4217-95a7-050117ada231",
        "colab": {
          "base_uri": "https://localhost:8080/",
          "height": 68
        }
      },
      "source": [
        "#confusion matrix\n",
        "from sklearn.metrics import confusion_matrix\n",
        "cm = confusion_matrix(y_test, ran_predict)\n",
        "cm"
      ],
      "execution_count": 20,
      "outputs": [
        {
          "output_type": "execute_result",
          "data": {
            "text/plain": [
              "array([[  3, 196,   1],\n",
              "       [  7, 387,   8],\n",
              "       [  0, 202,   5]])"
            ]
          },
          "metadata": {
            "tags": []
          },
          "execution_count": 20
        }
      ]
    },
    {
      "cell_type": "code",
      "metadata": {
        "id": "8EKMFAXtoJKF",
        "colab_type": "code",
        "outputId": "09fdb5c6-c248-415b-d977-c04b885975be",
        "colab": {
          "base_uri": "https://localhost:8080/",
          "height": 187
        }
      },
      "source": [
        "from sklearn.metrics import classification_report\n",
        "cr = classification_report(y_test,ran_predict, digits=3)\n",
        "print(cr)"
      ],
      "execution_count": 21,
      "outputs": [
        {
          "output_type": "stream",
          "text": [
            "              precision    recall  f1-score   support\n",
            "\n",
            "          -1      0.300     0.015     0.029       200\n",
            "           0      0.493     0.963     0.652       402\n",
            "           1      0.357     0.024     0.045       207\n",
            "\n",
            "    accuracy                          0.488       809\n",
            "   macro avg      0.383     0.334     0.242       809\n",
            "weighted avg      0.411     0.488     0.343       809\n",
            "\n"
          ],
          "name": "stdout"
        }
      ]
    },
    {
      "cell_type": "code",
      "metadata": {
        "id": "a-dsUHhMaS7w",
        "colab_type": "code",
        "outputId": "9be8b512-579d-4e37-ebe3-68b7f92fdf22",
        "colab": {
          "base_uri": "https://localhost:8080/",
          "height": 136
        }
      },
      "source": [
        "#model building XGBClassifier\n",
        "from xgboost import XGBClassifier\n",
        "xgb_classifier = XGBClassifier()\n",
        "xgb_classifier.fit(X_train,y_train)"
      ],
      "execution_count": 22,
      "outputs": [
        {
          "output_type": "execute_result",
          "data": {
            "text/plain": [
              "XGBClassifier(base_score=0.5, booster='gbtree', colsample_bylevel=1,\n",
              "              colsample_bynode=1, colsample_bytree=1, gamma=0,\n",
              "              learning_rate=0.1, max_delta_step=0, max_depth=3,\n",
              "              min_child_weight=1, missing=None, n_estimators=100, n_jobs=1,\n",
              "              nthread=None, objective='multi:softprob', random_state=0,\n",
              "              reg_alpha=0, reg_lambda=1, scale_pos_weight=1, seed=None,\n",
              "              silent=None, subsample=1, verbosity=1)"
            ]
          },
          "metadata": {
            "tags": []
          },
          "execution_count": 22
        }
      ]
    },
    {
      "cell_type": "code",
      "metadata": {
        "id": "oZJb3bbmaSwz",
        "colab_type": "code",
        "colab": {}
      },
      "source": [
        "#prediction\n",
        "xgb_predict = xgb_classifier.predict(X_test)"
      ],
      "execution_count": 0,
      "outputs": []
    },
    {
      "cell_type": "code",
      "metadata": {
        "id": "ObItOE2NaSf9",
        "colab_type": "code",
        "outputId": "446d763e-4e0b-4932-bc1f-ce7f28f33242",
        "colab": {
          "base_uri": "https://localhost:8080/",
          "height": 68
        }
      },
      "source": [
        "#Confusion matrix XG Boost\n",
        "xgb_cm = confusion_matrix(y_test, xgb_predict)\n",
        "xgb_cm"
      ],
      "execution_count": 24,
      "outputs": [
        {
          "output_type": "execute_result",
          "data": {
            "text/plain": [
              "array([[  3, 197,   0],\n",
              "       [  2, 396,   4],\n",
              "       [  0, 204,   3]])"
            ]
          },
          "metadata": {
            "tags": []
          },
          "execution_count": 24
        }
      ]
    },
    {
      "cell_type": "code",
      "metadata": {
        "id": "Yl2iVFvmaSMp",
        "colab_type": "code",
        "outputId": "692a05f7-b2a2-4f21-c417-da4da3f9b876",
        "colab": {
          "base_uri": "https://localhost:8080/",
          "height": 187
        }
      },
      "source": [
        "xgb_score = classification_report(y_test,xgb_predict)\n",
        "print(xgb_score)"
      ],
      "execution_count": 25,
      "outputs": [
        {
          "output_type": "stream",
          "text": [
            "              precision    recall  f1-score   support\n",
            "\n",
            "          -1       0.60      0.01      0.03       200\n",
            "           0       0.50      0.99      0.66       402\n",
            "           1       0.43      0.01      0.03       207\n",
            "\n",
            "    accuracy                           0.50       809\n",
            "   macro avg       0.51      0.34      0.24       809\n",
            "weighted avg       0.50      0.50      0.34       809\n",
            "\n"
          ],
          "name": "stdout"
        }
      ]
    },
    {
      "cell_type": "code",
      "metadata": {
        "id": "yxmjfsp3bZNS",
        "colab_type": "code",
        "outputId": "37a52768-1e9b-434f-e619-21813795f9a3",
        "colab": {
          "base_uri": "https://localhost:8080/",
          "height": 187
        }
      },
      "source": [
        "#model building Gradient Boosting Classifier\n",
        "from sklearn.ensemble import GradientBoostingClassifier\n",
        "gbc_classifier= GradientBoostingClassifier(n_estimators= 280)\n",
        "gbc_classifier.fit(X_train,y_train)"
      ],
      "execution_count": 26,
      "outputs": [
        {
          "output_type": "execute_result",
          "data": {
            "text/plain": [
              "GradientBoostingClassifier(ccp_alpha=0.0, criterion='friedman_mse', init=None,\n",
              "                           learning_rate=0.1, loss='deviance', max_depth=3,\n",
              "                           max_features=None, max_leaf_nodes=None,\n",
              "                           min_impurity_decrease=0.0, min_impurity_split=None,\n",
              "                           min_samples_leaf=1, min_samples_split=2,\n",
              "                           min_weight_fraction_leaf=0.0, n_estimators=280,\n",
              "                           n_iter_no_change=None, presort='deprecated',\n",
              "                           random_state=None, subsample=1.0, tol=0.0001,\n",
              "                           validation_fraction=0.1, verbose=0,\n",
              "                           warm_start=False)"
            ]
          },
          "metadata": {
            "tags": []
          },
          "execution_count": 26
        }
      ]
    },
    {
      "cell_type": "code",
      "metadata": {
        "id": "j5PUQVUubZHJ",
        "colab_type": "code",
        "colab": {}
      },
      "source": [
        "gbc_predict = gbc_classifier.predict(X_test)"
      ],
      "execution_count": 0,
      "outputs": []
    },
    {
      "cell_type": "code",
      "metadata": {
        "id": "KWDqKIQKbY-I",
        "colab_type": "code",
        "outputId": "3fd5fb45-1bdc-469c-e5d6-6f8352cf54ca",
        "colab": {
          "base_uri": "https://localhost:8080/",
          "height": 68
        }
      },
      "source": [
        "#Confusion matrix\n",
        "from sklearn.metrics import confusion_matrix\n",
        "gbc = confusion_matrix(y_test, gbc_predict)\n",
        "gbc"
      ],
      "execution_count": 28,
      "outputs": [
        {
          "output_type": "execute_result",
          "data": {
            "text/plain": [
              "array([[ 11, 186,   3],\n",
              "       [ 15, 373,  14],\n",
              "       [  9, 188,  10]])"
            ]
          },
          "metadata": {
            "tags": []
          },
          "execution_count": 28
        }
      ]
    },
    {
      "cell_type": "code",
      "metadata": {
        "id": "ldPE4uiIbYwz",
        "colab_type": "code",
        "outputId": "3499b8f6-813d-4ed2-a200-252c5eb54484",
        "colab": {
          "base_uri": "https://localhost:8080/",
          "height": 187
        }
      },
      "source": [
        "from sklearn.metrics import classification_report\n",
        "gbc_score = classification_report(y_test,gbc_predict)\n",
        "print(gbc_score)"
      ],
      "execution_count": 29,
      "outputs": [
        {
          "output_type": "stream",
          "text": [
            "              precision    recall  f1-score   support\n",
            "\n",
            "          -1       0.31      0.06      0.09       200\n",
            "           0       0.50      0.93      0.65       402\n",
            "           1       0.37      0.05      0.09       207\n",
            "\n",
            "    accuracy                           0.49       809\n",
            "   macro avg       0.39      0.34      0.28       809\n",
            "weighted avg       0.42      0.49      0.37       809\n",
            "\n"
          ],
          "name": "stdout"
        }
      ]
    },
    {
      "cell_type": "markdown",
      "metadata": {
        "id": "xieFSFOhePJK",
        "colab_type": "text"
      },
      "source": [
        "\n"
      ]
    },
    {
      "cell_type": "code",
      "metadata": {
        "id": "K2KRl7xduomN",
        "colab_type": "code",
        "colab": {}
      },
      "source": [
        "review_id = test['id']\n",
        "predict_values = gbc_classifier.predict(test_count)\n",
        "\n",
        "output = pd.DataFrame({ 'id' : review_id, 'sentiment_class': predict_values })\n",
        "output.to_csv('submission.csv', index=False)"
      ],
      "execution_count": 0,
      "outputs": []
    }
  ]
}