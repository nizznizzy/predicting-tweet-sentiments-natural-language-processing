{
  "nbformat": 4,
  "nbformat_minor": 0,
  "metadata": {
    "colab": {
      "name": "tweet-analysis-hakererath-competition.ipynb",
      "provenance": [],
      "collapsed_sections": []
    },
    "kernelspec": {
      "name": "python3",
      "display_name": "Python 3"
    }
  },
  "cells": [
    {
      "cell_type": "code",
      "metadata": {
        "id": "nCODFIJl_SOh",
        "colab_type": "code",
        "outputId": "888d4864-d126-42c6-b705-473bffa628ae",
        "colab": {
          "base_uri": "https://localhost:8080/",
          "height": 52
        }
      },
      "source": [
        "import pandas  as pd\n",
        "import numpy as np\n",
        "import re\n",
        "import nltk\n",
        "nltk.download('stopwords')\n",
        "from nltk.corpus import stopwords\n",
        "from nltk.stem.porter import PorterStemmer\n"
      ],
      "execution_count": 0,
      "outputs": [
        {
          "output_type": "stream",
          "text": [
            "[nltk_data] Downloading package stopwords to /root/nltk_data...\n",
            "[nltk_data]   Package stopwords is already up-to-date!\n"
          ],
          "name": "stdout"
        }
      ]
    },
    {
      "cell_type": "code",
      "metadata": {
        "id": "EmN-a5d2AHw-",
        "colab_type": "code",
        "colab": {}
      },
      "source": [
        "train = pd.read_csv('train.csv')"
      ],
      "execution_count": 0,
      "outputs": []
    },
    {
      "cell_type": "code",
      "metadata": {
        "id": "mdHnz7LmHpzX",
        "colab_type": "code",
        "outputId": "5307541e-cb8b-4167-ad50-fda418eff43e",
        "colab": {
          "base_uri": "https://localhost:8080/",
          "height": 197
        }
      },
      "source": [
        "train.head()"
      ],
      "execution_count": 0,
      "outputs": [
        {
          "output_type": "execute_result",
          "data": {
            "text/html": [
              "<div>\n",
              "<style scoped>\n",
              "    .dataframe tbody tr th:only-of-type {\n",
              "        vertical-align: middle;\n",
              "    }\n",
              "\n",
              "    .dataframe tbody tr th {\n",
              "        vertical-align: top;\n",
              "    }\n",
              "\n",
              "    .dataframe thead th {\n",
              "        text-align: right;\n",
              "    }\n",
              "</style>\n",
              "<table border=\"1\" class=\"dataframe\">\n",
              "  <thead>\n",
              "    <tr style=\"text-align: right;\">\n",
              "      <th></th>\n",
              "      <th>id</th>\n",
              "      <th>original_text</th>\n",
              "      <th>lang</th>\n",
              "      <th>retweet_count</th>\n",
              "      <th>original_author</th>\n",
              "      <th>sentiment_class</th>\n",
              "    </tr>\n",
              "  </thead>\n",
              "  <tbody>\n",
              "    <tr>\n",
              "      <th>0</th>\n",
              "      <td>1.245025e+18</td>\n",
              "      <td>Happy #MothersDay to all you amazing mothers o...</td>\n",
              "      <td>en</td>\n",
              "      <td>0</td>\n",
              "      <td>BeenXXPired</td>\n",
              "      <td>0</td>\n",
              "    </tr>\n",
              "    <tr>\n",
              "      <th>1</th>\n",
              "      <td>1.245759e+18</td>\n",
              "      <td>Happy Mothers Day Mum - I'm sorry I can't be t...</td>\n",
              "      <td>en</td>\n",
              "      <td>1</td>\n",
              "      <td>FestiveFeeling</td>\n",
              "      <td>0</td>\n",
              "    </tr>\n",
              "    <tr>\n",
              "      <th>2</th>\n",
              "      <td>1.246087e+18</td>\n",
              "      <td>Happy mothers day To all This doing a mothers ...</td>\n",
              "      <td>en</td>\n",
              "      <td>0</td>\n",
              "      <td>KrisAllenSak</td>\n",
              "      <td>-1</td>\n",
              "    </tr>\n",
              "    <tr>\n",
              "      <th>3</th>\n",
              "      <td>1.244803e+18</td>\n",
              "      <td>Happy mothers day to this beautiful woman...ro...</td>\n",
              "      <td>en</td>\n",
              "      <td>0</td>\n",
              "      <td>Queenuchee</td>\n",
              "      <td>0</td>\n",
              "    </tr>\n",
              "    <tr>\n",
              "      <th>4</th>\n",
              "      <td>1.244876e+18</td>\n",
              "      <td>Remembering the 3 most amazing ladies who made...</td>\n",
              "      <td>en</td>\n",
              "      <td>0</td>\n",
              "      <td>brittan17446794</td>\n",
              "      <td>-1</td>\n",
              "    </tr>\n",
              "  </tbody>\n",
              "</table>\n",
              "</div>"
            ],
            "text/plain": [
              "             id  ... sentiment_class\n",
              "0  1.245025e+18  ...               0\n",
              "1  1.245759e+18  ...               0\n",
              "2  1.246087e+18  ...              -1\n",
              "3  1.244803e+18  ...               0\n",
              "4  1.244876e+18  ...              -1\n",
              "\n",
              "[5 rows x 6 columns]"
            ]
          },
          "metadata": {
            "tags": []
          },
          "execution_count": 3
        }
      ]
    },
    {
      "cell_type": "code",
      "metadata": {
        "id": "07hHLAjqAl0H",
        "colab_type": "code",
        "outputId": "e5ad1290-2243-4c2c-fbb0-feffe2e9c82b",
        "colab": {
          "base_uri": "https://localhost:8080/",
          "height": 70
        }
      },
      "source": [
        "train.columns"
      ],
      "execution_count": 0,
      "outputs": [
        {
          "output_type": "execute_result",
          "data": {
            "text/plain": [
              "Index(['id', 'original_text', 'lang', 'retweet_count', 'original_author',\n",
              "       'sentiment_class'],\n",
              "      dtype='object')"
            ]
          },
          "metadata": {
            "tags": []
          },
          "execution_count": 4
        }
      ]
    },
    {
      "cell_type": "code",
      "metadata": {
        "id": "A0k1PQMbIDi9",
        "colab_type": "code",
        "outputId": "88cbdd6a-86b3-41d8-e23d-757de33e411d",
        "colab": {
          "base_uri": "https://localhost:8080/",
          "height": 34
        }
      },
      "source": [
        "train.shape"
      ],
      "execution_count": 0,
      "outputs": [
        {
          "output_type": "execute_result",
          "data": {
            "text/plain": [
              "(3235, 6)"
            ]
          },
          "metadata": {
            "tags": []
          },
          "execution_count": 5
        }
      ]
    },
    {
      "cell_type": "code",
      "metadata": {
        "id": "_7WoBh_KER6Y",
        "colab_type": "code",
        "colab": {}
      },
      "source": [
        "train_clean = []\n",
        "for i in range(0, 3235):\n",
        "  review = re.sub('[^a-zA-Z]',' ',train['original_text'][i])\n",
        "  review = review.lower()\n",
        "  review = review.split()\n",
        "  ps = PorterStemmer()\n",
        "  review = [ps.stem(word) for word in review if not word in set(stopwords.words('english'))]\n",
        "  review =' '.join(review)\n",
        "  train_clean.append(review)"
      ],
      "execution_count": 0,
      "outputs": []
    },
    {
      "cell_type": "code",
      "metadata": {
        "id": "Ya0x_MwQIVgH",
        "colab_type": "code",
        "outputId": "80667034-0ccc-41a4-adb0-afaec86b3930",
        "colab": {
          "base_uri": "https://localhost:8080/",
          "height": 214
        }
      },
      "source": [
        "train_clean[0:10]"
      ],
      "execution_count": 0,
      "outputs": [
        {
          "output_type": "execute_result",
          "data": {
            "text/plain": [
              "['happi mothersday amaz mother know hard abl see mother today us protect vulner member societi beatcoronaviru pic twitter com va nfjfq b',\n",
              " 'happi mother day mum sorri bring mother day flower cwtch honestli point walk hot coal abl bell soon love lot xxx p need photo http photo app goo gl vxblrsczd te',\n",
              " 'happi mother day mother day work today quiet time reflect dog walk finish jigsaw garden learn guitar chord drunk strawberri gin tonic watch lee even dvd favourit place visit isol pic twitter com gz xvvf f',\n",
              " 'happi mother day beauti woman royalti sooth mummi jeremi emerald prayforroksi ultimateloveng pic twitter com oeeti pvv',\n",
              " 'rememb amaz ladi made late grandmoth iri mum carol great grandmoth ethel miss never forgotten happi mother day great mum love sent xxxx pic twitter com xzzzdeybj',\n",
              " 'happi mother day bratz world familiez yasmin mum portia bratz bratzworldfamiliez bratz bratzkidz bratzyasmin bratzportia theonlygirlswithapassionforfashion bratzdol bratzcollector happymothersday mothersday mothersday azdoesmakeup pic twitter com zhpu',\n",
              " 'happi mother day wonder mum mothersday cupcak supermum traceyscakecraft couturesugarpast saracinouk hinckley tracey cakecraft http www instagram com p b cuzhjg au igshid lf elmlv q g',\n",
              " 'show mother two sexi rosi happi mother day beauti rosi officiallrosi love happymothersdayrosi happymothersday whyiloveroksi roksi pic twitter com omzghciv',\n",
              " 'mother grandmoth aunt sister women live care love us uncondit happi mother day mothersday pic twitter com ejatt ah z',\n",
              " 'mother around world ga health initi wish happi mother day gthi mothersday motheringsunday mothersday lpg motherhood motherslov gastohealth argu lpgn nigeria cookingga cook mothersdayshoutout mother mama pic twitter com csq joic z']"
            ]
          },
          "metadata": {
            "tags": []
          },
          "execution_count": 7
        }
      ]
    },
    {
      "cell_type": "code",
      "metadata": {
        "id": "Z2hF2Q5HUagH",
        "colab_type": "code",
        "outputId": "90789aec-b158-4a5f-a5b8-934eaa65ba20",
        "colab": {
          "base_uri": "https://localhost:8080/",
          "height": 34
        }
      },
      "source": [
        "from sklearn.feature_extraction.text import CountVectorizer\n",
        "cv = CountVectorizer(max_features=7319)\n",
        "X= cv.fit_transform(train_clean).toarray()\n",
        "y= train.iloc[: , 5].values\n",
        "y"
      ],
      "execution_count": 0,
      "outputs": [
        {
          "output_type": "execute_result",
          "data": {
            "text/plain": [
              "array([ 0,  0, -1, ...,  0,  0, -1])"
            ]
          },
          "metadata": {
            "tags": []
          },
          "execution_count": 8
        }
      ]
    },
    {
      "cell_type": "code",
      "metadata": {
        "id": "XvEHgYXnboo-",
        "colab_type": "code",
        "outputId": "ba2ffa11-aacc-4cb0-8e71-b9466b700639",
        "colab": {
          "base_uri": "https://localhost:8080/",
          "height": 34
        }
      },
      "source": [
        "X.shape"
      ],
      "execution_count": 0,
      "outputs": [
        {
          "output_type": "execute_result",
          "data": {
            "text/plain": [
              "(3235, 7319)"
            ]
          },
          "metadata": {
            "tags": []
          },
          "execution_count": 9
        }
      ]
    },
    {
      "cell_type": "code",
      "metadata": {
        "id": "ddB8jXfTIoat",
        "colab_type": "code",
        "colab": {}
      },
      "source": [
        "test = pd.read_csv('test.csv')"
      ],
      "execution_count": 0,
      "outputs": []
    },
    {
      "cell_type": "code",
      "metadata": {
        "id": "iU3MQUawJCXu",
        "colab_type": "code",
        "outputId": "7377272f-37ee-4f4d-feca-ac51b7b1b62a",
        "colab": {
          "base_uri": "https://localhost:8080/",
          "height": 197
        }
      },
      "source": [
        "test.head()"
      ],
      "execution_count": 0,
      "outputs": [
        {
          "output_type": "execute_result",
          "data": {
            "text/html": [
              "<div>\n",
              "<style scoped>\n",
              "    .dataframe tbody tr th:only-of-type {\n",
              "        vertical-align: middle;\n",
              "    }\n",
              "\n",
              "    .dataframe tbody tr th {\n",
              "        vertical-align: top;\n",
              "    }\n",
              "\n",
              "    .dataframe thead th {\n",
              "        text-align: right;\n",
              "    }\n",
              "</style>\n",
              "<table border=\"1\" class=\"dataframe\">\n",
              "  <thead>\n",
              "    <tr style=\"text-align: right;\">\n",
              "      <th></th>\n",
              "      <th>id</th>\n",
              "      <th>original_text</th>\n",
              "      <th>lang</th>\n",
              "      <th>retweet_count</th>\n",
              "      <th>original_author</th>\n",
              "    </tr>\n",
              "  </thead>\n",
              "  <tbody>\n",
              "    <tr>\n",
              "      <th>0</th>\n",
              "      <td>1.246628e+18</td>\n",
              "      <td>3. Yeah, I once cooked potatoes when I was 3 y...</td>\n",
              "      <td>en</td>\n",
              "      <td>0</td>\n",
              "      <td>LToddWood</td>\n",
              "    </tr>\n",
              "    <tr>\n",
              "      <th>1</th>\n",
              "      <td>1.245898e+18</td>\n",
              "      <td>Happy Mother's Day to all the mums, step-mums,...</td>\n",
              "      <td>en</td>\n",
              "      <td>0</td>\n",
              "      <td>iiarushii</td>\n",
              "    </tr>\n",
              "    <tr>\n",
              "      <th>2</th>\n",
              "      <td>1.244717e+18</td>\n",
              "      <td>I love the people from the UK, however, when I...</td>\n",
              "      <td>en</td>\n",
              "      <td>0</td>\n",
              "      <td>andreaanderegg</td>\n",
              "    </tr>\n",
              "    <tr>\n",
              "      <th>3</th>\n",
              "      <td>1.245730e+18</td>\n",
              "      <td>Happy 81st Birthday Happy Mother’s Day to my m...</td>\n",
              "      <td>en</td>\n",
              "      <td>1</td>\n",
              "      <td>TheBookTweeters</td>\n",
              "    </tr>\n",
              "    <tr>\n",
              "      <th>4</th>\n",
              "      <td>1.244636e+18</td>\n",
              "      <td>Happy Mothers day to all those wonderful mothe...</td>\n",
              "      <td>en</td>\n",
              "      <td>0</td>\n",
              "      <td>andreaanderegg</td>\n",
              "    </tr>\n",
              "  </tbody>\n",
              "</table>\n",
              "</div>"
            ],
            "text/plain": [
              "             id  ...  original_author\n",
              "0  1.246628e+18  ...        LToddWood\n",
              "1  1.245898e+18  ...        iiarushii\n",
              "2  1.244717e+18  ...   andreaanderegg\n",
              "3  1.245730e+18  ...  TheBookTweeters\n",
              "4  1.244636e+18  ...   andreaanderegg\n",
              "\n",
              "[5 rows x 5 columns]"
            ]
          },
          "metadata": {
            "tags": []
          },
          "execution_count": 11
        }
      ]
    },
    {
      "cell_type": "code",
      "metadata": {
        "id": "J-VcNePaJFkZ",
        "colab_type": "code",
        "outputId": "3ccdb123-f17f-4000-fd31-569cf2fd7ccf",
        "colab": {
          "base_uri": "https://localhost:8080/",
          "height": 34
        }
      },
      "source": [
        "test.shape"
      ],
      "execution_count": 0,
      "outputs": [
        {
          "output_type": "execute_result",
          "data": {
            "text/plain": [
              "(1387, 5)"
            ]
          },
          "metadata": {
            "tags": []
          },
          "execution_count": 12
        }
      ]
    },
    {
      "cell_type": "code",
      "metadata": {
        "id": "aws2ragSJJio",
        "colab_type": "code",
        "colab": {}
      },
      "source": [
        "test_clean = []\n",
        "for i in range(0, 1387):\n",
        "  review = re.sub('[^a-zA-Z]',' ',test['original_text'][i])\n",
        "  review = review.lower()\n",
        "  review = review.split()\n",
        "  ps = PorterStemmer()\n",
        "  review = [ps.stem(word) for word in review if not word in set(stopwords.words('english'))]\n",
        "  review =' '.join(review)\n",
        "  test_clean.append(review)"
      ],
      "execution_count": 0,
      "outputs": []
    },
    {
      "cell_type": "code",
      "metadata": {
        "id": "c6hzzD72JgJQ",
        "colab_type": "code",
        "outputId": "a10b57a6-c548-44f9-95c9-78a1df271789",
        "colab": {
          "base_uri": "https://localhost:8080/",
          "height": 34
        }
      },
      "source": [
        "print(len(test_clean))"
      ],
      "execution_count": 0,
      "outputs": [
        {
          "output_type": "stream",
          "text": [
            "1387\n"
          ],
          "name": "stdout"
        }
      ]
    },
    {
      "cell_type": "code",
      "metadata": {
        "id": "Ri8XMjOVQ4RY",
        "colab_type": "code",
        "outputId": "50bdf4c6-f4f4-4a55-c142-f919a1e10726",
        "colab": {
          "base_uri": "https://localhost:8080/",
          "height": 141
        }
      },
      "source": [
        "test_cv = CountVectorizer()\n",
        "test_count= cv.fit_transform(test_clean).toarray()\n",
        "test_count"
      ],
      "execution_count": 0,
      "outputs": [
        {
          "output_type": "execute_result",
          "data": {
            "text/plain": [
              "array([[0, 0, 0, ..., 0, 0, 0],\n",
              "       [0, 0, 0, ..., 0, 0, 0],\n",
              "       [0, 0, 0, ..., 0, 0, 0],\n",
              "       ...,\n",
              "       [0, 0, 0, ..., 0, 0, 0],\n",
              "       [0, 0, 0, ..., 0, 0, 0],\n",
              "       [0, 0, 0, ..., 0, 0, 0]])"
            ]
          },
          "metadata": {
            "tags": []
          },
          "execution_count": 15
        }
      ]
    },
    {
      "cell_type": "code",
      "metadata": {
        "id": "pnN6OjhtTO5F",
        "colab_type": "code",
        "outputId": "60cb3b33-2348-42bf-ee3b-0e16537e92cd",
        "colab": {
          "base_uri": "https://localhost:8080/",
          "height": 34
        }
      },
      "source": [
        "test_count.shape"
      ],
      "execution_count": 0,
      "outputs": [
        {
          "output_type": "execute_result",
          "data": {
            "text/plain": [
              "(1387, 7319)"
            ]
          },
          "metadata": {
            "tags": []
          },
          "execution_count": 16
        }
      ]
    },
    {
      "cell_type": "code",
      "metadata": {
        "id": "93RJMl_1ekxN",
        "colab_type": "code",
        "outputId": "c9a79bda-687a-4127-cc88-e9385c04fbef",
        "colab": {
          "base_uri": "https://localhost:8080/",
          "height": 70
        }
      },
      "source": [
        "#spliting the dataset\n",
        "from sklearn.model_selection import train_test_split\n",
        "X_train,X_test,y_train,y_test = train_test_split(X, y, test_size = 0.3, random_state = 0)\n",
        "train.columns"
      ],
      "execution_count": 0,
      "outputs": [
        {
          "output_type": "execute_result",
          "data": {
            "text/plain": [
              "Index(['id', 'original_text', 'lang', 'retweet_count', 'original_author',\n",
              "       'sentiment_class'],\n",
              "      dtype='object')"
            ]
          },
          "metadata": {
            "tags": []
          },
          "execution_count": 17
        }
      ]
    },
    {
      "cell_type": "code",
      "metadata": {
        "id": "-neRz5QdgXYa",
        "colab_type": "code",
        "outputId": "e2c9114b-f9c5-4a01-e516-01f719db371c",
        "colab": {
          "base_uri": "https://localhost:8080/",
          "height": 87
        }
      },
      "source": [
        "from sklearn.svm import SVC\n",
        "svm = SVC(kernel = 'rbf', random_state=0)\n",
        "svm.fit(X_train,y_train)"
      ],
      "execution_count": 0,
      "outputs": [
        {
          "output_type": "execute_result",
          "data": {
            "text/plain": [
              "SVC(C=1.0, break_ties=False, cache_size=200, class_weight=None, coef0=0.0,\n",
              "    decision_function_shape='ovr', degree=3, gamma='scale', kernel='rbf',\n",
              "    max_iter=-1, probability=False, random_state=0, shrinking=True, tol=0.001,\n",
              "    verbose=False)"
            ]
          },
          "metadata": {
            "tags": []
          },
          "execution_count": 18
        }
      ]
    },
    {
      "cell_type": "code",
      "metadata": {
        "id": "m3ffXaAygXM8",
        "colab_type": "code",
        "colab": {}
      },
      "source": [
        "svm_predict = svm.predict(X_test)"
      ],
      "execution_count": 0,
      "outputs": []
    },
    {
      "cell_type": "code",
      "metadata": {
        "id": "uiAp2tD0gW-o",
        "colab_type": "code",
        "outputId": "6d41c8c2-2c52-414b-f6b9-85923929e53b",
        "colab": {
          "base_uri": "https://localhost:8080/",
          "height": 70
        }
      },
      "source": [
        "#Confusion matrix SVM\n",
        "from sklearn.metrics import confusion_matrix\n",
        "svm = confusion_matrix(y_test, svm_predict)\n",
        "svm"
      ],
      "execution_count": 0,
      "outputs": [
        {
          "output_type": "execute_result",
          "data": {
            "text/plain": [
              "array([[  0, 230,   0],\n",
              "       [  0, 488,   0],\n",
              "       [  0, 252,   1]])"
            ]
          },
          "metadata": {
            "tags": []
          },
          "execution_count": 20
        }
      ]
    },
    {
      "cell_type": "code",
      "metadata": {
        "id": "EpXnAmm_gWtY",
        "colab_type": "code",
        "outputId": "3f2e2af0-eb2c-4a46-a145-d437d338af41",
        "colab": {
          "base_uri": "https://localhost:8080/",
          "height": 250
        }
      },
      "source": [
        "from sklearn.metrics import classification_report\n",
        "svm_score =classification_report(y_test, svm_predict)\n",
        "print(svm_score)"
      ],
      "execution_count": 0,
      "outputs": [
        {
          "output_type": "stream",
          "text": [
            "              precision    recall  f1-score   support\n",
            "\n",
            "          -1       0.00      0.00      0.00       230\n",
            "           0       0.50      1.00      0.67       488\n",
            "           1       1.00      0.00      0.01       253\n",
            "\n",
            "    accuracy                           0.50       971\n",
            "   macro avg       0.50      0.33      0.23       971\n",
            "weighted avg       0.51      0.50      0.34       971\n",
            "\n"
          ],
          "name": "stdout"
        },
        {
          "output_type": "stream",
          "text": [
            "/usr/local/lib/python3.6/dist-packages/sklearn/metrics/_classification.py:1272: UndefinedMetricWarning: Precision and F-score are ill-defined and being set to 0.0 in labels with no predicted samples. Use `zero_division` parameter to control this behavior.\n",
            "  _warn_prf(average, modifier, msg_start, len(result))\n"
          ],
          "name": "stderr"
        }
      ]
    },
    {
      "cell_type": "code",
      "metadata": {
        "id": "OfdS5GAGmaI3",
        "colab_type": "code",
        "outputId": "8318a058-954f-42a9-e154-a83d4aca8463",
        "colab": {
          "base_uri": "https://localhost:8080/",
          "height": 158
        }
      },
      "source": [
        "#model building RANDOM FOREST\n",
        "from sklearn.ensemble import RandomForestClassifier\n",
        "classifier = RandomForestClassifier(n_estimators=50, criterion='entropy', random_state=0)\n",
        "classifier.fit(X_train,y_train)"
      ],
      "execution_count": 0,
      "outputs": [
        {
          "output_type": "execute_result",
          "data": {
            "text/plain": [
              "RandomForestClassifier(bootstrap=True, ccp_alpha=0.0, class_weight=None,\n",
              "                       criterion='entropy', max_depth=None, max_features='auto',\n",
              "                       max_leaf_nodes=None, max_samples=None,\n",
              "                       min_impurity_decrease=0.0, min_impurity_split=None,\n",
              "                       min_samples_leaf=1, min_samples_split=2,\n",
              "                       min_weight_fraction_leaf=0.0, n_estimators=50,\n",
              "                       n_jobs=None, oob_score=False, random_state=0, verbose=0,\n",
              "                       warm_start=False)"
            ]
          },
          "metadata": {
            "tags": []
          },
          "execution_count": 22
        }
      ]
    },
    {
      "cell_type": "code",
      "metadata": {
        "id": "qumQT_Xcmc7M",
        "colab_type": "code",
        "colab": {}
      },
      "source": [
        " #predicting tweets\n",
        " ran_predict = classifier.predict(X_test)"
      ],
      "execution_count": 0,
      "outputs": []
    },
    {
      "cell_type": "code",
      "metadata": {
        "id": "zg31bVUDntn9",
        "colab_type": "code",
        "outputId": "f2b8d9af-5c0e-4942-86c3-63ee9278c173",
        "colab": {
          "base_uri": "https://localhost:8080/",
          "height": 70
        }
      },
      "source": [
        "#confusion matrix\n",
        "from sklearn.metrics import confusion_matrix\n",
        "cm = confusion_matrix(y_test, ran_predict)\n",
        "cm"
      ],
      "execution_count": 0,
      "outputs": [
        {
          "output_type": "execute_result",
          "data": {
            "text/plain": [
              "array([[  5, 223,   2],\n",
              "       [ 15, 462,  11],\n",
              "       [  2, 243,   8]])"
            ]
          },
          "metadata": {
            "tags": []
          },
          "execution_count": 24
        }
      ]
    },
    {
      "cell_type": "code",
      "metadata": {
        "id": "8EKMFAXtoJKF",
        "colab_type": "code",
        "outputId": "fa0a1a2a-22b5-43eb-9371-e0efce31c0b7",
        "colab": {
          "base_uri": "https://localhost:8080/",
          "height": 194
        }
      },
      "source": [
        "from sklearn.metrics import classification_report\n",
        "cr = classification_report(y_test,ran_predict, digits=3)\n",
        "print(cr)"
      ],
      "execution_count": 0,
      "outputs": [
        {
          "output_type": "stream",
          "text": [
            "              precision    recall  f1-score   support\n",
            "\n",
            "          -1      0.227     0.022     0.040       230\n",
            "           0      0.498     0.947     0.653       488\n",
            "           1      0.381     0.032     0.058       253\n",
            "\n",
            "    accuracy                          0.489       971\n",
            "   macro avg      0.369     0.333     0.250       971\n",
            "weighted avg      0.403     0.489     0.353       971\n",
            "\n"
          ],
          "name": "stdout"
        }
      ]
    },
    {
      "cell_type": "code",
      "metadata": {
        "id": "9GYlWOLZY5Wa",
        "colab_type": "code",
        "outputId": "f6d92de1-576f-4ee6-d8a9-869e92eaacf2",
        "colab": {
          "base_uri": "https://localhost:8080/",
          "height": 34
        }
      },
      "source": [
        "#Naive bayes classifier\n",
        "from sklearn.naive_bayes import GaussianNB\n",
        "nb_classifier = GaussianNB()\n",
        "nb_classifier.fit(X_train,y_train)"
      ],
      "execution_count": 0,
      "outputs": [
        {
          "output_type": "execute_result",
          "data": {
            "text/plain": [
              "GaussianNB(priors=None, var_smoothing=1e-09)"
            ]
          },
          "metadata": {
            "tags": []
          },
          "execution_count": 27
        }
      ]
    },
    {
      "cell_type": "code",
      "metadata": {
        "id": "tDIUXHpoZeiF",
        "colab_type": "code",
        "colab": {}
      },
      "source": [
        "#predicting tweets\n",
        "nb_predict = nb_classifier.predict(X_test)"
      ],
      "execution_count": 0,
      "outputs": []
    },
    {
      "cell_type": "code",
      "metadata": {
        "id": "Wv6m8DSxZnp5",
        "colab_type": "code",
        "outputId": "1c174f77-cdb8-441f-8a31-76e74d3c6cf6",
        "colab": {
          "base_uri": "https://localhost:8080/",
          "height": 70
        }
      },
      "source": [
        "#confusion matrix\n",
        "nb_cm = confusion_matrix(y_test,nb_predict)\n",
        "nb_cm"
      ],
      "execution_count": 0,
      "outputs": [
        {
          "output_type": "execute_result",
          "data": {
            "text/plain": [
              "array([[ 52, 102,  76],\n",
              "       [ 90, 211, 187],\n",
              "       [ 39, 107, 107]])"
            ]
          },
          "metadata": {
            "tags": []
          },
          "execution_count": 29
        }
      ]
    },
    {
      "cell_type": "code",
      "metadata": {
        "id": "PLblrRWOZ0ES",
        "colab_type": "code",
        "outputId": "993e8723-e4b6-494d-fe8b-00ed52a5872a",
        "colab": {
          "base_uri": "https://localhost:8080/",
          "height": 194
        }
      },
      "source": [
        "nb_score = classification_report(y_test,nb_predict)\n",
        "print(nb_score)"
      ],
      "execution_count": 0,
      "outputs": [
        {
          "output_type": "stream",
          "text": [
            "              precision    recall  f1-score   support\n",
            "\n",
            "          -1       0.29      0.23      0.25       230\n",
            "           0       0.50      0.43      0.46       488\n",
            "           1       0.29      0.42      0.34       253\n",
            "\n",
            "    accuracy                           0.38       971\n",
            "   macro avg       0.36      0.36      0.35       971\n",
            "weighted avg       0.40      0.38      0.38       971\n",
            "\n"
          ],
          "name": "stdout"
        }
      ]
    },
    {
      "cell_type": "code",
      "metadata": {
        "id": "a-dsUHhMaS7w",
        "colab_type": "code",
        "outputId": "0ffc5e1d-67fd-43e3-dde3-65cdbaf1d010",
        "colab": {
          "base_uri": "https://localhost:8080/",
          "height": 141
        }
      },
      "source": [
        "#model building XGBClassifier\n",
        "from xgboost import XGBClassifier\n",
        "xgb_classifier = XGBClassifier()\n",
        "xgb_classifier.fit(X_train,y_train)"
      ],
      "execution_count": 0,
      "outputs": [
        {
          "output_type": "execute_result",
          "data": {
            "text/plain": [
              "XGBClassifier(base_score=0.5, booster='gbtree', colsample_bylevel=1,\n",
              "              colsample_bynode=1, colsample_bytree=1, gamma=0,\n",
              "              learning_rate=0.1, max_delta_step=0, max_depth=3,\n",
              "              min_child_weight=1, missing=None, n_estimators=100, n_jobs=1,\n",
              "              nthread=None, objective='multi:softprob', random_state=0,\n",
              "              reg_alpha=0, reg_lambda=1, scale_pos_weight=1, seed=None,\n",
              "              silent=None, subsample=1, verbosity=1)"
            ]
          },
          "metadata": {
            "tags": []
          },
          "execution_count": 31
        }
      ]
    },
    {
      "cell_type": "code",
      "metadata": {
        "id": "oZJb3bbmaSwz",
        "colab_type": "code",
        "colab": {}
      },
      "source": [
        "#prediction\n",
        "xgb_predict = xgb_classifier.predict(X_test)"
      ],
      "execution_count": 0,
      "outputs": []
    },
    {
      "cell_type": "code",
      "metadata": {
        "id": "ObItOE2NaSf9",
        "colab_type": "code",
        "outputId": "fe02253e-28cb-47e3-ff4d-4dd9c5026d20",
        "colab": {
          "base_uri": "https://localhost:8080/",
          "height": 70
        }
      },
      "source": [
        "#Confusion matrix XG Boost\n",
        "xgb_cm = confusion_matrix(y_test, xgb_predict)\n",
        "xgb_cm"
      ],
      "execution_count": 0,
      "outputs": [
        {
          "output_type": "execute_result",
          "data": {
            "text/plain": [
              "array([[  4, 225,   1],\n",
              "       [ 10, 475,   3],\n",
              "       [  1, 248,   4]])"
            ]
          },
          "metadata": {
            "tags": []
          },
          "execution_count": 33
        }
      ]
    },
    {
      "cell_type": "code",
      "metadata": {
        "id": "Yl2iVFvmaSMp",
        "colab_type": "code",
        "outputId": "cf73d6f3-4d20-4d7e-d4d6-6916b74a07c0",
        "colab": {
          "base_uri": "https://localhost:8080/",
          "height": 194
        }
      },
      "source": [
        "xgb_score = classification_report(y_test,xgb_predict)\n",
        "print(xgb_score)"
      ],
      "execution_count": 0,
      "outputs": [
        {
          "output_type": "stream",
          "text": [
            "              precision    recall  f1-score   support\n",
            "\n",
            "          -1       0.27      0.02      0.03       230\n",
            "           0       0.50      0.97      0.66       488\n",
            "           1       0.50      0.02      0.03       253\n",
            "\n",
            "    accuracy                           0.50       971\n",
            "   macro avg       0.42      0.34      0.24       971\n",
            "weighted avg       0.45      0.50      0.35       971\n",
            "\n"
          ],
          "name": "stdout"
        }
      ]
    },
    {
      "cell_type": "code",
      "metadata": {
        "id": "yxmjfsp3bZNS",
        "colab_type": "code",
        "colab": {
          "base_uri": "https://localhost:8080/",
          "height": 194
        },
        "outputId": "d8519f6b-c645-49cc-f60b-93cd95bb7750"
      },
      "source": [
        "#model building Gradient Boosting Classifier\n",
        "from sklearn.ensemble import GradientBoostingClassifier\n",
        "gbc= GradientBoostingClassifier()\n",
        "gbc.fit(X_train,y_train)"
      ],
      "execution_count": 35,
      "outputs": [
        {
          "output_type": "execute_result",
          "data": {
            "text/plain": [
              "GradientBoostingClassifier(ccp_alpha=0.0, criterion='friedman_mse', init=None,\n",
              "                           learning_rate=0.1, loss='deviance', max_depth=3,\n",
              "                           max_features=None, max_leaf_nodes=None,\n",
              "                           min_impurity_decrease=0.0, min_impurity_split=None,\n",
              "                           min_samples_leaf=1, min_samples_split=2,\n",
              "                           min_weight_fraction_leaf=0.0, n_estimators=100,\n",
              "                           n_iter_no_change=None, presort='deprecated',\n",
              "                           random_state=None, subsample=1.0, tol=0.0001,\n",
              "                           validation_fraction=0.1, verbose=0,\n",
              "                           warm_start=False)"
            ]
          },
          "metadata": {
            "tags": []
          },
          "execution_count": 35
        }
      ]
    },
    {
      "cell_type": "code",
      "metadata": {
        "id": "j5PUQVUubZHJ",
        "colab_type": "code",
        "colab": {}
      },
      "source": [
        "gbc_predict = gbc.predict(X_test)"
      ],
      "execution_count": 0,
      "outputs": []
    },
    {
      "cell_type": "code",
      "metadata": {
        "id": "KWDqKIQKbY-I",
        "colab_type": "code",
        "colab": {
          "base_uri": "https://localhost:8080/",
          "height": 70
        },
        "outputId": "ed8706e3-3c0c-49fe-96ea-1ac8e04a3c32"
      },
      "source": [
        "#Confusion matrix XG Boost\n",
        "gbc = confusion_matrix(y_test, gbc_predict)\n",
        "gbc"
      ],
      "execution_count": 37,
      "outputs": [
        {
          "output_type": "execute_result",
          "data": {
            "text/plain": [
              "array([[  5, 225,   0],\n",
              "       [ 14, 469,   5],\n",
              "       [  6, 246,   1]])"
            ]
          },
          "metadata": {
            "tags": []
          },
          "execution_count": 37
        }
      ]
    },
    {
      "cell_type": "code",
      "metadata": {
        "id": "ldPE4uiIbYwz",
        "colab_type": "code",
        "colab": {
          "base_uri": "https://localhost:8080/",
          "height": 194
        },
        "outputId": "ea64e908-23ce-4daa-af5c-87759955e682"
      },
      "source": [
        "gbc_score = classification_report(y_test,gbc_predict)\n",
        "print(gbc_score)"
      ],
      "execution_count": 38,
      "outputs": [
        {
          "output_type": "stream",
          "text": [
            "              precision    recall  f1-score   support\n",
            "\n",
            "          -1       0.20      0.02      0.04       230\n",
            "           0       0.50      0.96      0.66       488\n",
            "           1       0.17      0.00      0.01       253\n",
            "\n",
            "    accuracy                           0.49       971\n",
            "   macro avg       0.29      0.33      0.23       971\n",
            "weighted avg       0.34      0.49      0.34       971\n",
            "\n"
          ],
          "name": "stdout"
        }
      ]
    },
    {
      "cell_type": "markdown",
      "metadata": {
        "id": "xieFSFOhePJK",
        "colab_type": "text"
      },
      "source": [
        "\n"
      ]
    }
  ]
}